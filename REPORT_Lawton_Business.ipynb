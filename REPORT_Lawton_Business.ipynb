{
 "cells": [
  {
   "cell_type": "markdown",
   "id": "015879dc",
   "metadata": {},
   "source": [
    "# Title: Exploring Business ideas for Lawton Oklahoma"
   ]
  },
  {
   "cell_type": "markdown",
   "id": "b25fd7cf",
   "metadata": {},
   "source": [
    "## Background and The problem\n",
    "\n",
    "### Lawton, Oklahoma is a rapidly rising city with a population of 120,000 people. The fourth largest city in the State of Oklahoma. One of the most diverse cities in the country. The military is the most populous group in Lawton. Many small, medium, and big businesses cater to various needs associated to a largely military city's major occupation. Many soldiers leave the military while stationed in Lawton. Furthermore, it looks that the military base is planning to expand. In this city, there are numerous options to start a business."
   ]
  },
  {
   "cell_type": "markdown",
   "id": "b88758ad",
   "metadata": {},
   "source": [
    "## The Data and how it will be used to solve the problem\n",
    "\n",
    "### The data required to solve the problem helped to explore venues in Lawton, to establish the most common businesses and most popular venues. After searching the Internet for data, a source of free United States data was found, a \"personal free copy\" of zip codes data: https://www.unitedstateszipcodes.org/zip-code-database/ . \n",
    "\n",
    "### The file was downloaded as a comma delimited csv file."
   ]
  },
  {
   "cell_type": "markdown",
   "id": "d07531e3",
   "metadata": {},
   "source": [
    "### The data was used to describe Oklahoma, and to explore the neighborhoods of Lawton.  Python 3 and various Libraries was used to explore the data for venues in Lawton."
   ]
  },
  {
   "cell_type": "markdown",
   "id": "1c8a8390",
   "metadata": {},
   "source": [
    "## Method"
   ]
  },
  {
   "cell_type": "markdown",
   "id": "dee6e0ab",
   "metadata": {},
   "source": [
    "### Part 1. Data cleaning of the cvs source of data"
   ]
  },
  {
   "cell_type": "markdown",
   "id": "135a4ffd",
   "metadata": {},
   "source": [
    "### Part 2. To Explore and Cluster SW Oklahoma Counties"
   ]
  },
  {
   "cell_type": "markdown",
   "id": "541c2de9",
   "metadata": {},
   "source": [
    "### Using the geopy library to obtain latitude and longitude values of Oklahoma, US\n",
    "### Through geopy obtained the coordinates of Oklahoma: 34.9550817, -97.2684063"
   ]
  },
  {
   "cell_type": "markdown",
   "id": "f01d1e26",
   "metadata": {},
   "source": [
    "### Using FourSquare obtained credentials and version\n",
    "### Through FourSquare we identified 14 neighborhoods of Comanche County, Lawton\n"
   ]
  },
  {
   "cell_type": "markdown",
   "id": "d42f7bb5",
   "metadata": {},
   "source": [
    "## Results"
   ]
  },
  {
   "cell_type": "markdown",
   "id": "2121da7f",
   "metadata": {},
   "source": [
    "### 46 unique categories of venues were identified through the process."
   ]
  },
  {
   "cell_type": "markdown",
   "id": "1f3dd282",
   "metadata": {},
   "source": [
    "### Using onehot, rows of neighborhoods were grouped by taking the mean of the frequency of occurence in the category"
   ]
  },
  {
   "cell_type": "markdown",
   "id": "5cabbf28",
   "metadata": {},
   "source": [
    "### We run k-means to cluster the neighborhood into 5 clusters\n",
    "### We created a new dataframe that includes the cluster as well\n",
    "### as the top venues for each neighborhood"
   ]
  },
  {
   "cell_type": "markdown",
   "id": "e64d2b89",
   "metadata": {},
   "source": [
    "### We examined the clusters to see the discriminating venue category that distinguishes each cluster."
   ]
  },
  {
   "cell_type": "markdown",
   "id": "0268be02",
   "metadata": {},
   "source": [
    "## Conclusion"
   ]
  },
  {
   "cell_type": "markdown",
   "id": "f1b9821e",
   "metadata": {},
   "source": [
    "### Although the tourist attraction is not identified as the most popular venue, that is probably because, the most popular venues are eateries: fast food restaurants, followed by pizza place and wings joint.\n",
    "### Pharmacy and mobile phone shop come in at 7th common place."
   ]
  },
  {
   "cell_type": "markdown",
   "id": "07365275",
   "metadata": {},
   "source": [
    "## References"
   ]
  },
  {
   "cell_type": "markdown",
   "id": "b6f17069",
   "metadata": {},
   "source": [
    "https://www.lawtonedc.com/"
   ]
  },
  {
   "cell_type": "markdown",
   "id": "eb5eb89a",
   "metadata": {},
   "source": [
    "https://www.unitedstateszipcodes.org/zip-code-database/"
   ]
  },
  {
   "cell_type": "code",
   "execution_count": null,
   "id": "6faef043",
   "metadata": {},
   "outputs": [],
   "source": []
  }
 ],
 "metadata": {
  "interpreter": {
   "hash": "63fd5069d213b44bf678585dea6b12cceca9941eaf7f819626cde1f2670de90d"
  },
  "kernelspec": {
   "display_name": "Python 3",
   "language": "python",
   "name": "python3"
  },
  "language_info": {
   "codemirror_mode": {
    "name": "ipython",
    "version": 3
   },
   "file_extension": ".py",
   "mimetype": "text/x-python",
   "name": "python",
   "nbconvert_exporter": "python",
   "pygments_lexer": "ipython3",
   "version": "3.8.8"
  }
 },
 "nbformat": 4,
 "nbformat_minor": 5
}
